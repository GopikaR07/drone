{
 "cells": [
  {
   "cell_type": "code",
   "execution_count": 528,
   "id": "feef0fa8-c29e-4dd0-b742-80a2dfc57b9e",
   "metadata": {},
   "outputs": [
    {
     "name": "stdout",
     "output_type": "stream",
     "text": [
      "Defaulting to user installation because normal site-packages is not writeable\n",
      "Requirement already satisfied: pillow in c:\\users\\gopik\\appdata\\roaming\\python\\python312\\site-packages (10.4.0)\n",
      "Note: you may need to restart the kernel to use updated packages.\n"
     ]
    }
   ],
   "source": [
    "pip install pillow "
   ]
  },
  {
   "cell_type": "code",
   "execution_count": 529,
   "id": "2ed274e5-177b-4525-bd0b-65a62f8b8853",
   "metadata": {},
   "outputs": [],
   "source": [
    "from tkinter import *\n",
    "from tkinter import filedialog\n",
    "from PIL import Image,ImageTk\n",
    "import os\n",
    "import cv2\n",
    "import random"
   ]
  },
  {
   "cell_type": "code",
   "execution_count": 530,
   "id": "26507faf-69ae-423a-bc2b-20c48333f97f",
   "metadata": {},
   "outputs": [],
   "source": [
    "root = Tk()\n",
    "root.geometry(\"1000x700\")\n",
    "root.configure(bg=\"sky blue\") \n",
    "label = Label(root,text=\"Spotting the Terain\",font=('Britannic Bold', 30))\n",
    "label.grid(row=0, column=0, columnspan=2, pady=10,sticky=\"nsew\")"
   ]
  },
  {
   "cell_type": "code",
   "execution_count": 531,
   "id": "def716b3-53a0-462b-b11a-cff728e190ea",
   "metadata": {},
   "outputs": [],
   "source": [
    "frame = Frame(root,bg=\"sky blue\")\n",
    "frame.grid(row=1, column=0,columnspan=2, padx=10, pady=10) "
   ]
  },
  {
   "cell_type": "code",
   "execution_count": 532,
   "id": "3e620dae-d726-445a-9a4f-2c012831e129",
   "metadata": {},
   "outputs": [],
   "source": [
    "##image_label = Label(frame)\n",
    "#image_label.grid(row=0, column=0, padx=10, pady=10)"
   ]
  },
  {
   "cell_type": "code",
   "execution_count": 533,
   "id": "463d9d4f-2586-42f6-995f-a951aed11500",
   "metadata": {},
   "outputs": [],
   "source": [
    "media_label = Label(frame)\n",
    "media_label.grid(row=0, column=0)"
   ]
  },
  {
   "cell_type": "code",
   "execution_count": 534,
   "id": "60373ff4-0846-4584-9d8c-5ada3e1e812b",
   "metadata": {},
   "outputs": [],
   "source": [
    "video_cap = None\n",
    "video_running = False"
   ]
  },
  {
   "cell_type": "code",
   "execution_count": 535,
   "id": "a4c6b30f-1a68-4918-a998-8d649148147b",
   "metadata": {},
   "outputs": [],
   "source": [
    "def get_terrain_confidence(image_path):\n",
    "    # This is just a random placeholder. Replace with your model's prediction.\n",
    "    terrain_types = [\"Forest\", \"Water\", \"Building\", \"Road\"]\n",
    "    predicted_terrain = random.choice(terrain_types)\n",
    "    confidence = random.randint(70, 100)  # Random confidence, replace with your model's output\n",
    "    return predicted_terrain, confidence"
   ]
  },
  {
   "cell_type": "code",
   "execution_count": 536,
   "id": "4a4347c8-ed77-49ea-8a9c-3ec69fe68db3",
   "metadata": {},
   "outputs": [],
   "source": [
    "def display_frame():\n",
    "    global video_cap, video_running\n",
    "    if video_cap and video_running:\n",
    "        ret, frame = video_cap.read()\n",
    "        if ret:\n",
    "            frame = cv2.resize(frame, (400, 300))\n",
    "            frame = cv2.cvtColor(frame, cv2.COLOR_BGR2RGB)\n",
    "            img = ImageTk.PhotoImage(Image.fromarray(frame))\n",
    "            media_label.config(image=img)\n",
    "            media_label.image = img\n",
    "            root.after(30, display_frame)  \n",
    "        else:\n",
    "            video_cap.release()\n",
    "            video_running = False"
   ]
  },
  {
   "cell_type": "code",
   "execution_count": 537,
   "id": "732c7b42-c42c-41af-bc44-c41aae28dd51",
   "metadata": {},
   "outputs": [],
   "source": [
    "def upload_and_display():\n",
    "    global video_cap, video_running\n",
    "    filepath = filedialog.askopenfilename(filetypes=[\n",
    "        (\"Media files\", \"*.jpg *.jpeg *.png *.mp4 *.avi *.mov *.mkv\")\n",
    "    ])\n",
    "    if not filepath:\n",
    "        return\n",
    "\n",
    "    ext = os.path.splitext(filepath)[1].lower()\n",
    "\n",
    "    if video_cap:\n",
    "        video_running = False\n",
    "        video_cap.release()\n",
    "        media_label.config(image='')\n",
    "        media_label.image = None\n",
    "\n",
    "    if ext in ['.jpg', '.jpeg', '.png']:\n",
    "        img = Image.open(filepath)\n",
    "        original_size = img.size  \n",
    "        #img = img.resize(original_size) \n",
    "        img = img.resize((800, 600))\n",
    "        img_tk = ImageTk.PhotoImage(img)\n",
    "        media_label.config(image=img_tk)\n",
    "        media_label.image = img_tk\n",
    "        terrain, confidence = get_terrain_confidence(filepath)\n",
    "        confidence_label = Label(frame, text=\" \", font=('Helvetica', 16))\n",
    "        confidence_label.config(text=f\"Terrain: {terrain}\\nConfidence: {confidence}%\")\n",
    "        \n",
    "        confidence_label.grid(row=0, column=1,padx=300)\n",
    "\n",
    "        \n",
    "    elif ext in ['.mp4', '.avi', '.mov', '.mkv']:\n",
    "        video_cap = cv2.VideoCapture(filepath)\n",
    "        video_running = True\n",
    "        display_frame()\n"
   ]
  },
  {
   "cell_type": "code",
   "execution_count": 538,
   "id": "c22b37e8-fd09-4e52-88e1-64df8a0d97dd",
   "metadata": {},
   "outputs": [],
   "source": [
    "upload_btn = Button(root, text=\"Upload File\", command=upload_and_display)\n",
    "upload_btn.grid(row=3, column=0, columnspan=2, pady=50,sticky=\"nsew\")"
   ]
  },
  {
   "cell_type": "code",
   "execution_count": 539,
   "id": "59063ca1-a87f-4f1d-9045-d5cb212835af",
   "metadata": {},
   "outputs": [],
   "source": [
    "root.mainloop()"
   ]
  },
  {
   "cell_type": "code",
   "execution_count": null,
   "id": "980e2f1b-7918-4696-b542-a2a68f0f2a39",
   "metadata": {},
   "outputs": [],
   "source": []
  },
  {
   "cell_type": "code",
   "execution_count": null,
   "id": "abfc0ab0-bac7-4101-900e-c8fc914fcf2d",
   "metadata": {},
   "outputs": [],
   "source": []
  }
 ],
 "metadata": {
  "kernelspec": {
   "display_name": "Python 3 (ipykernel)",
   "language": "python",
   "name": "python3"
  },
  "language_info": {
   "codemirror_mode": {
    "name": "ipython",
    "version": 3
   },
   "file_extension": ".py",
   "mimetype": "text/x-python",
   "name": "python",
   "nbconvert_exporter": "python",
   "pygments_lexer": "ipython3",
   "version": "3.12.4"
  }
 },
 "nbformat": 4,
 "nbformat_minor": 5
}
